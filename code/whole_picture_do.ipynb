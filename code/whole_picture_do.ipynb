{
 "cells": [
  {
   "cell_type": "code",
   "execution_count": 5,
   "metadata": {
    "collapsed": true,
    "deletable": true,
    "editable": true
   },
   "outputs": [],
   "source": [
    "import cv2\n",
    "import tensorflow\n",
    "import os\n",
    "import matplotlib.pyplot as plt\n",
    "os.environ[\"CUDA_DEVICE_ORDER\"]=\"PCI_BUS_ID\"\n",
    "os.environ[\"CUDA_VISIBLE_DEVICES\"]=\"4\""
   ]
  },
  {
   "cell_type": "code",
   "execution_count": 15,
   "metadata": {
    "collapsed": false,
    "deletable": true,
    "editable": true
   },
   "outputs": [],
   "source": [
    "# load the picture data and \n",
    "data_path ='../../data/MPIIGaze/Data/Original/'\n",
    "img_list = []\n",
    "y_list =[]\n",
    "it = iter(range(20000))\n",
    "def Read_img(data_path):\n",
    "    for data in os.listdir(data_path):\n",
    "        print(data_path)\n",
    "#         print(data[-3:])\n",
    "        path = os.path.join(data_path, data)\n",
    "#         print(path)\n",
    "#         print(\"------\")\n",
    "        or_img = cv2.imread(path)\n",
    "    \n",
    "        if data[-3:] == 'txt':\n",
    "            with open(path, 'r') as f:\n",
    "                while True:\n",
    "                    line = f.readline()     # 逐行读取\n",
    "                if not line:\n",
    "                    break\n",
    "                y_list.append(line)\n",
    "                print(next(it), \"dd \", y_list)\n",
    "        if or_img != None:\n",
    "#             img_get = or_img.getdata()\n",
    "            or_img.tolist()\n",
    "#             print(or_img)\n",
    "            img_list.append(or_img)\n",
    "        print(next(it))\n",
    "        if os.path.isdir(path):\n",
    "            Read_img(path)\n",
    "            "
   ]
  },
  {
   "cell_type": "code",
   "execution_count": 16,
   "metadata": {
    "collapsed": false,
    "deletable": true,
    "editable": true,
    "scrolled": false
   },
   "outputs": [
    {
     "name": "stdout",
     "output_type": "stream",
     "text": [
      "../../data/MPIIGaze/Data/Original/\n",
      "0\n",
      "../../data/MPIIGaze/Data/Original/p10\n",
      "1\n",
      "../../data/MPIIGaze/Data/Original/p10/day16\n"
     ]
    },
    {
     "name": "stderr",
     "output_type": "stream",
     "text": [
      "/nfshome/xueqin/anaconda3/envs/dl/lib/python3.5/site-packages/ipykernel/__main__.py:23: FutureWarning: comparison to `None` will result in an elementwise object comparison in the future.\n"
     ]
    },
    {
     "name": "stdout",
     "output_type": "stream",
     "text": [
      "2\n",
      "../../data/MPIIGaze/Data/Original/p10/day16\n",
      "3\n",
      "../../data/MPIIGaze/Data/Original/p10/day16\n",
      "4\n",
      "../../data/MPIIGaze/Data/Original/p10/day16\n",
      "5\n",
      "../../data/MPIIGaze/Data/Original/p10/day16\n",
      "6\n",
      "../../data/MPIIGaze/Data/Original/p10/day16\n",
      "7\n",
      "../../data/MPIIGaze/Data/Original/p10/day16\n",
      "8\n",
      "../../data/MPIIGaze/Data/Original/p10/day16\n",
      "9\n",
      "../../data/MPIIGaze/Data/Original/p10/day16\n",
      "10\n",
      "../../data/MPIIGaze/Data/Original/p10/day16\n",
      "11\n",
      "../../data/MPIIGaze/Data/Original/p10/day16\n",
      "12\n",
      "../../data/MPIIGaze/Data/Original/p10/day16\n",
      "13\n",
      "../../data/MPIIGaze/Data/Original/p10/day16\n",
      "14\n",
      "../../data/MPIIGaze/Data/Original/p10/day16\n",
      "15\n",
      "../../data/MPIIGaze/Data/Original/p10/day16\n",
      "16\n",
      "../../data/MPIIGaze/Data/Original/p10/day16\n",
      "17\n",
      "../../data/MPIIGaze/Data/Original/p10/day16\n",
      "18\n",
      "../../data/MPIIGaze/Data/Original/p10/day16\n",
      "19\n",
      "../../data/MPIIGaze/Data/Original/p10/day16\n",
      "20\n",
      "../../data/MPIIGaze/Data/Original/p10/day16\n",
      "21\n",
      "../../data/MPIIGaze/Data/Original/p10/day16\n",
      "22\n",
      "../../data/MPIIGaze/Data/Original/p10/day16\n",
      "23\n",
      "../../data/MPIIGaze/Data/Original/p10/day16\n",
      "24\n",
      "../../data/MPIIGaze/Data/Original/p10/day16\n",
      "25\n",
      "../../data/MPIIGaze/Data/Original/p10/day16\n",
      "26\n",
      "../../data/MPIIGaze/Data/Original/p10/day16\n",
      "27\n",
      "../../data/MPIIGaze/Data/Original/p10/day16\n",
      "28\n",
      "../../data/MPIIGaze/Data/Original/p10/day16\n",
      "29\n",
      "../../data/MPIIGaze/Data/Original/p10/day16\n",
      "30\n",
      "../../data/MPIIGaze/Data/Original/p10/day16\n",
      "31\n",
      "../../data/MPIIGaze/Data/Original/p10/day16\n",
      "32\n",
      "../../data/MPIIGaze/Data/Original/p10/day16\n",
      "33\n",
      "../../data/MPIIGaze/Data/Original/p10/day16\n",
      "34\n",
      "../../data/MPIIGaze/Data/Original/p10/day16\n",
      "35\n",
      "../../data/MPIIGaze/Data/Original/p10/day16\n",
      "36\n",
      "../../data/MPIIGaze/Data/Original/p10/day16\n",
      "37\n",
      "../../data/MPIIGaze/Data/Original/p10/day16\n",
      "38\n",
      "../../data/MPIIGaze/Data/Original/p10/day16\n",
      "39\n",
      "../../data/MPIIGaze/Data/Original/p10/day16\n",
      "40\n",
      "../../data/MPIIGaze/Data/Original/p10/day16\n",
      "41\n",
      "../../data/MPIIGaze/Data/Original/p10/day16\n",
      "42\n",
      "../../data/MPIIGaze/Data/Original/p10/day16\n",
      "43\n",
      "../../data/MPIIGaze/Data/Original/p10/day16\n",
      "44\n",
      "../../data/MPIIGaze/Data/Original/p10/day16\n",
      "45\n",
      "../../data/MPIIGaze/Data/Original/p10/day16\n",
      "46\n",
      "../../data/MPIIGaze/Data/Original/p10/day16\n",
      "47\n",
      "../../data/MPIIGaze/Data/Original/p10/day16\n",
      "48\n",
      "../../data/MPIIGaze/Data/Original/p10/day16\n",
      "49\n",
      "../../data/MPIIGaze/Data/Original/p10/day16\n",
      "50\n",
      "../../data/MPIIGaze/Data/Original/p10/day16\n",
      "51\n",
      "../../data/MPIIGaze/Data/Original/p10/day16\n",
      "52\n",
      "../../data/MPIIGaze/Data/Original/p10/day16\n",
      "53\n",
      "../../data/MPIIGaze/Data/Original/p10/day16\n",
      "54\n",
      "../../data/MPIIGaze/Data/Original/p10/day16\n",
      "55\n",
      "../../data/MPIIGaze/Data/Original/p10/day16\n",
      "56\n",
      "../../data/MPIIGaze/Data/Original/p10/day16\n",
      "57\n",
      "../../data/MPIIGaze/Data/Original/p10/day16\n"
     ]
    },
    {
     "ename": "KeyboardInterrupt",
     "evalue": "",
     "output_type": "error",
     "traceback": [
      "\u001b[0;31m---------------------------------------------------------------------------\u001b[0m",
      "\u001b[0;31mKeyboardInterrupt\u001b[0m                         Traceback (most recent call last)",
      "\u001b[0;32m<ipython-input-16-3a28d34d3ab6>\u001b[0m in \u001b[0;36m<module>\u001b[0;34m()\u001b[0m\n\u001b[1;32m      1\u001b[0m \u001b[0;32mimport\u001b[0m \u001b[0mtime\u001b[0m\u001b[0;34m\u001b[0m\u001b[0m\n\u001b[1;32m      2\u001b[0m \u001b[0mstart\u001b[0m \u001b[0;34m=\u001b[0m \u001b[0mtime\u001b[0m\u001b[0;34m.\u001b[0m\u001b[0mtime\u001b[0m\u001b[0;34m(\u001b[0m\u001b[0;34m)\u001b[0m\u001b[0;34m\u001b[0m\u001b[0m\n\u001b[0;32m----> 3\u001b[0;31m \u001b[0mRead_img\u001b[0m\u001b[0;34m(\u001b[0m\u001b[0mdata_path\u001b[0m\u001b[0;34m)\u001b[0m\u001b[0;34m\u001b[0m\u001b[0m\n\u001b[0m\u001b[1;32m      4\u001b[0m \u001b[0mend\u001b[0m \u001b[0;34m=\u001b[0m\u001b[0mtime\u001b[0m\u001b[0;34m.\u001b[0m\u001b[0mtime\u001b[0m\u001b[0;34m(\u001b[0m\u001b[0;34m)\u001b[0m\u001b[0;34m\u001b[0m\u001b[0m\n\u001b[1;32m      5\u001b[0m \u001b[0mprint\u001b[0m\u001b[0;34m(\u001b[0m\u001b[0;34m\"over\"\u001b[0m\u001b[0;34m)\u001b[0m\u001b[0;34m\u001b[0m\u001b[0m\n",
      "\u001b[0;32m<ipython-input-15-084d0825084d>\u001b[0m in \u001b[0;36mRead_img\u001b[0;34m(data_path)\u001b[0m\n\u001b[1;32m     28\u001b[0m         \u001b[0mprint\u001b[0m\u001b[0;34m(\u001b[0m\u001b[0mnext\u001b[0m\u001b[0;34m(\u001b[0m\u001b[0mit\u001b[0m\u001b[0;34m)\u001b[0m\u001b[0;34m)\u001b[0m\u001b[0;34m\u001b[0m\u001b[0m\n\u001b[1;32m     29\u001b[0m         \u001b[0;32mif\u001b[0m \u001b[0mos\u001b[0m\u001b[0;34m.\u001b[0m\u001b[0mpath\u001b[0m\u001b[0;34m.\u001b[0m\u001b[0misdir\u001b[0m\u001b[0;34m(\u001b[0m\u001b[0mpath\u001b[0m\u001b[0;34m)\u001b[0m\u001b[0;34m:\u001b[0m\u001b[0;34m\u001b[0m\u001b[0m\n\u001b[0;32m---> 30\u001b[0;31m             \u001b[0mRead_img\u001b[0m\u001b[0;34m(\u001b[0m\u001b[0mpath\u001b[0m\u001b[0;34m)\u001b[0m\u001b[0;34m\u001b[0m\u001b[0m\n\u001b[0m\u001b[1;32m     31\u001b[0m \u001b[0;34m\u001b[0m\u001b[0m\n",
      "\u001b[0;32m<ipython-input-15-084d0825084d>\u001b[0m in \u001b[0;36mRead_img\u001b[0;34m(data_path)\u001b[0m\n\u001b[1;32m     28\u001b[0m         \u001b[0mprint\u001b[0m\u001b[0;34m(\u001b[0m\u001b[0mnext\u001b[0m\u001b[0;34m(\u001b[0m\u001b[0mit\u001b[0m\u001b[0;34m)\u001b[0m\u001b[0;34m)\u001b[0m\u001b[0;34m\u001b[0m\u001b[0m\n\u001b[1;32m     29\u001b[0m         \u001b[0;32mif\u001b[0m \u001b[0mos\u001b[0m\u001b[0;34m.\u001b[0m\u001b[0mpath\u001b[0m\u001b[0;34m.\u001b[0m\u001b[0misdir\u001b[0m\u001b[0;34m(\u001b[0m\u001b[0mpath\u001b[0m\u001b[0;34m)\u001b[0m\u001b[0;34m:\u001b[0m\u001b[0;34m\u001b[0m\u001b[0m\n\u001b[0;32m---> 30\u001b[0;31m             \u001b[0mRead_img\u001b[0m\u001b[0;34m(\u001b[0m\u001b[0mpath\u001b[0m\u001b[0;34m)\u001b[0m\u001b[0;34m\u001b[0m\u001b[0m\n\u001b[0m\u001b[1;32m     31\u001b[0m \u001b[0;34m\u001b[0m\u001b[0m\n",
      "\u001b[0;32m<ipython-input-15-084d0825084d>\u001b[0m in \u001b[0;36mRead_img\u001b[0;34m(data_path)\u001b[0m\n\u001b[1;32m     16\u001b[0m             \u001b[0;32mwith\u001b[0m \u001b[0mopen\u001b[0m\u001b[0;34m(\u001b[0m\u001b[0mpath\u001b[0m\u001b[0;34m,\u001b[0m \u001b[0;34m'r'\u001b[0m\u001b[0;34m)\u001b[0m \u001b[0;32mas\u001b[0m \u001b[0mf\u001b[0m\u001b[0;34m:\u001b[0m\u001b[0;34m\u001b[0m\u001b[0m\n\u001b[1;32m     17\u001b[0m                 \u001b[0;32mwhile\u001b[0m \u001b[0;32mTrue\u001b[0m\u001b[0;34m:\u001b[0m\u001b[0;34m\u001b[0m\u001b[0m\n\u001b[0;32m---> 18\u001b[0;31m                     \u001b[0mline\u001b[0m \u001b[0;34m=\u001b[0m \u001b[0mf\u001b[0m\u001b[0;34m.\u001b[0m\u001b[0mreadline\u001b[0m\u001b[0;34m(\u001b[0m\u001b[0;34m)\u001b[0m     \u001b[0;31m# 逐行读取\u001b[0m\u001b[0;34m\u001b[0m\u001b[0m\n\u001b[0m\u001b[1;32m     19\u001b[0m                 \u001b[0;32mif\u001b[0m \u001b[0;32mnot\u001b[0m \u001b[0mline\u001b[0m\u001b[0;34m:\u001b[0m\u001b[0;34m\u001b[0m\u001b[0m\n\u001b[1;32m     20\u001b[0m                     \u001b[0;32mbreak\u001b[0m\u001b[0;34m\u001b[0m\u001b[0m\n",
      "\u001b[0;32m/nfshome/xueqin/anaconda3/envs/dl/lib/python3.5/encodings/ascii.py\u001b[0m in \u001b[0;36mdecode\u001b[0;34m(self, input, final)\u001b[0m\n\u001b[1;32m     23\u001b[0m \u001b[0;34m\u001b[0m\u001b[0m\n\u001b[1;32m     24\u001b[0m \u001b[0;32mclass\u001b[0m \u001b[0mIncrementalDecoder\u001b[0m\u001b[0;34m(\u001b[0m\u001b[0mcodecs\u001b[0m\u001b[0;34m.\u001b[0m\u001b[0mIncrementalDecoder\u001b[0m\u001b[0;34m)\u001b[0m\u001b[0;34m:\u001b[0m\u001b[0;34m\u001b[0m\u001b[0m\n\u001b[0;32m---> 25\u001b[0;31m     \u001b[0;32mdef\u001b[0m \u001b[0mdecode\u001b[0m\u001b[0;34m(\u001b[0m\u001b[0mself\u001b[0m\u001b[0;34m,\u001b[0m \u001b[0minput\u001b[0m\u001b[0;34m,\u001b[0m \u001b[0mfinal\u001b[0m\u001b[0;34m=\u001b[0m\u001b[0;32mFalse\u001b[0m\u001b[0;34m)\u001b[0m\u001b[0;34m:\u001b[0m\u001b[0;34m\u001b[0m\u001b[0m\n\u001b[0m\u001b[1;32m     26\u001b[0m         \u001b[0;32mreturn\u001b[0m \u001b[0mcodecs\u001b[0m\u001b[0;34m.\u001b[0m\u001b[0mascii_decode\u001b[0m\u001b[0;34m(\u001b[0m\u001b[0minput\u001b[0m\u001b[0;34m,\u001b[0m \u001b[0mself\u001b[0m\u001b[0;34m.\u001b[0m\u001b[0merrors\u001b[0m\u001b[0;34m)\u001b[0m\u001b[0;34m[\u001b[0m\u001b[0;36m0\u001b[0m\u001b[0;34m]\u001b[0m\u001b[0;34m\u001b[0m\u001b[0m\n\u001b[1;32m     27\u001b[0m \u001b[0;34m\u001b[0m\u001b[0m\n",
      "\u001b[0;31mKeyboardInterrupt\u001b[0m: "
     ]
    }
   ],
   "source": [
    "import time\n",
    "start = time.time()\n",
    "Read_img(data_path)\n",
    "end =time.time()\n",
    "print(\"over\")\n",
    "print(end - start)\n"
   ]
  },
  {
   "cell_type": "markdown",
   "metadata": {
    "collapsed": true,
    "deletable": true,
    "editable": true
   },
   "source": [
    "cpu运行有问题，可能是内存资源不足\n",
    "采用其他方式gpu载入读取来解决问题"
   ]
  }
 ],
 "metadata": {
  "kernelspec": {
   "display_name": "Python 3",
   "language": "python",
   "name": "python3"
  },
  "language_info": {
   "codemirror_mode": {
    "name": "ipython",
    "version": 3
   },
   "file_extension": ".py",
   "mimetype": "text/x-python",
   "name": "python",
   "nbconvert_exporter": "python",
   "pygments_lexer": "ipython3",
   "version": "3.5.2"
  },
  "widgets": {
   "state": {},
   "version": "1.1.2"
  }
 },
 "nbformat": 4,
 "nbformat_minor": 2
}
