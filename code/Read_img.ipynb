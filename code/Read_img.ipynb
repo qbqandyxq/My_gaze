{
 "cells": [
  {
   "cell_type": "code",
   "execution_count": 1,
   "metadata": {
    "collapsed": true,
    "deletable": true,
    "editable": true
   },
   "outputs": [],
   "source": [
    "import cv2\n",
    "import tensorflow\n",
    "import os\n",
    "import matplotlib.pyplot as plt\n",
    "os.environ[\"CUDA_DEVICE_ORDER\"]=\"PCI_BUS_ID\"\n",
    "os.environ[\"CUDA_VISIBLE_DEVICES\"]=\"4\""
   ]
  },
  {
   "cell_type": "code",
   "execution_count": 2,
   "metadata": {
    "collapsed": false,
    "deletable": true,
    "editable": true,
    "scrolled": true
   },
   "outputs": [],
   "source": [
    "# the data path\n",
    "data_path ='../../data/MPIIGaze/Data/Original/'\n",
    "img_list = []\n",
    "def Read_img(data_path):\n",
    "    for data in os.listdir(data_path):\n",
    "        path = os.path.join(data_path, data)\n",
    "        or_img = cv2.imread(path)\n",
    "        if or_img != None:\n",
    "#             plt.imshow(or_img[180:540, 320:960]) # 显示图片\n",
    "#             plt.axis('off') # 不显示坐标轴\n",
    "#             plt.show()\n",
    "            \n",
    "#             img_get = or_img.getdata()\n",
    "#             print(img_get)\n",
    "            or_img.tolist()\n",
    "#             print(or_img)\n",
    "            img_list.append(or_img)\n",
    "        if os.path.isdir(path):\n",
    "            Read_img(path)\n",
    "            \n"
   ]
  },
  {
   "cell_type": "code",
   "execution_count": null,
   "metadata": {
    "collapsed": false,
    "deletable": true,
    "editable": true
   },
   "outputs": [
    {
     "name": "stderr",
     "output_type": "stream",
     "text": [
      "/nfshome/xueqin/anaconda3/envs/dl/lib/python3.5/site-packages/ipykernel/__main__.py:8: FutureWarning: comparison to `None` will result in an elementwise object comparison in the future.\n"
     ]
    }
   ],
   "source": [
    "Read_img(data_path)"
   ]
  },
  {
   "cell_type": "code",
   "execution_count": null,
   "metadata": {
    "collapsed": true,
    "deletable": true,
    "editable": true
   },
   "outputs": [],
   "source": [
    "# img1 = cv2.imread(filenames,cv2.IMREAD_GRAYSCALE)   #读取图片，第二个参数表示以灰度图像读入\n",
    "# if img1 is None:                   #判断读入的img1是否为空，为空就继续下一轮循环\n",
    "#             continue\n",
    "# res1= cv2.resize(img1,(28,28))              #对图片进行缩放，第一个参数是读入的图片，第二个是制定的缩放大小\n",
    "# res1_1 = res1.reshape(1,784)/255       #将表示图片的二维矩阵转换成一维\n",
    "# res1_1_1 = res1_1.tolist()                     #将numpy.narray类型的矩阵转换成list\n",
    "# train_set_x.append(res1_1_1)"
   ]
  },
  {
   "cell_type": "code",
   "execution_count": null,
   "metadata": {
    "collapsed": true,
    "deletable": true,
    "editable": true
   },
   "outputs": [],
   "source": []
  }
 ],
 "metadata": {
  "kernelspec": {
   "display_name": "Python 3",
   "language": "python",
   "name": "python3"
  },
  "language_info": {
   "codemirror_mode": {
    "name": "ipython",
    "version": 3
   },
   "file_extension": ".py",
   "mimetype": "text/x-python",
   "name": "python",
   "nbconvert_exporter": "python",
   "pygments_lexer": "ipython3",
   "version": "3.5.2"
  },
  "widgets": {
   "state": {},
   "version": "1.1.2"
  }
 },
 "nbformat": 4,
 "nbformat_minor": 2
}
